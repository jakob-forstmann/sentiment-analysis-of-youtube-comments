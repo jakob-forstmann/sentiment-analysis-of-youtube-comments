{
 "cells": [
  {
   "cell_type": "code",
   "execution_count": 1,
   "id": "c342f168",
   "metadata": {},
   "outputs": [
    {
     "name": "stderr",
     "output_type": "stream",
     "text": [
      "[nltk_data] Downloading package stopwords to\n",
      "[nltk_data]     /Users/rishabhtiwari/nltk_data...\n",
      "[nltk_data]   Package stopwords is already up-to-date!\n"
     ]
    },
    {
     "name": "stdout",
     "output_type": "stream",
     "text": [
      "{'mean_fit_time': array([2.03970613, 0.21286254, 0.2120625 , 1.01177521, 9.25585032]), 'std_fit_time': array([0.04141676, 0.00637323, 0.00502842, 0.01320117, 0.79885224]), 'mean_score_time': array([0.50517521, 0.04158273, 0.04055715, 0.06107683, 0.04522324]), 'std_score_time': array([0.03452487, 0.00271368, 0.00217356, 0.00257197, 0.00236044]), 'param_vect__tokenizer': masked_array(data=[<__main__.StemTokenizer object at 0x7f9cebe32820>,\n",
      "                   None, --, --, --],\n",
      "             mask=[False, False,  True,  True,  True],\n",
      "       fill_value='?',\n",
      "            dtype=object), 'param_clf': masked_array(data=[--, --, LinearSVC(), RandomForestClassifier(),\n",
      "                   MLPClassifier()],\n",
      "             mask=[ True,  True, False, False, False],\n",
      "       fill_value='?',\n",
      "            dtype=object), 'params': [{'vect__tokenizer': <__main__.StemTokenizer object at 0x7f9cebe32820>}, {'vect__tokenizer': None}, {'clf': LinearSVC()}, {'clf': RandomForestClassifier()}, {'clf': MLPClassifier()}], 'split0_test_score': array([0.85790173, 0.85524568, 0.85524568, 0.83798141, 0.85126162]), 'split1_test_score': array([0.86321381, 0.86985392, 0.86985392, 0.83665339, 0.86985392]), 'split2_test_score': array([0.86055777, 0.86719788, 0.86719788, 0.82602922, 0.86719788]), 'split3_test_score': array([0.87118194, 0.875166  , 0.875166  , 0.83532537, 0.86985392]), 'split4_test_score': array([0.85922975, 0.86454183, 0.86454183, 0.83798141, 0.8499336 ]), 'mean_test_score': array([0.862417  , 0.86640106, 0.86640106, 0.83479416, 0.86162019]), 'std_test_score': array([0.00472148, 0.00659212, 0.00659212, 0.00449178, 0.00906174]), 'rank_test_score': array([3, 1, 1, 5, 4], dtype=int32)}\n"
     ]
    }
   ],
   "source": [
    "import re\n",
    "import nltk\n",
    "from nltk.stem import SnowballStemmer\n",
    "from nltk.corpus import stopwords as nltk_stopwords\n",
    "from sklearn.feature_extraction.text import TfidfVectorizer\n",
    "from sklearn.pipeline import Pipeline\n",
    "from sklearn.svm import LinearSVC\n",
    "from sklearn.ensemble import RandomForestClassifier\n",
    "from sklearn.neural_network import MLPClassifier\n",
    "from sklearn.model_selection import GridSearchCV\n",
    "import pandas as pd\n",
    "\n",
    "nltk.download('stopwords')\n",
    "\n",
    "class StemTokenizer:\n",
    "    def __init__(self, stopwords):\n",
    "        self.tokenizer = re.compile(\"\\w\\w+\")\n",
    "        self.stopwords = set(stopwords)\n",
    "        self.ps = SnowballStemmer('english')\n",
    "    def __call__(self, doc):\n",
    "        tokens = self.tokenizer.findall(doc)\n",
    "        return [self.ps.stem(t) for t in tokens if not t in self.stopwords]\n",
    "\n",
    "pipeline = Pipeline([('vect', TfidfVectorizer()), ('clf', LinearSVC())])\n",
    "\n",
    "param_grid = [\n",
    "    {'vect__tokenizer': [StemTokenizer(nltk_stopwords.words('english')), None]},\n",
    "    {'clf': [LinearSVC(), RandomForestClassifier(), MLPClassifier()]}\n",
    "    ]\n",
    "grid_search_cv = GridSearchCV(pipeline, param_grid)\n",
    "\n",
    "dataset = pd.read_csv('data/our_dataset.csv')\n",
    "X = dataset.loc[:, \"reviewText\"]\n",
    "y = dataset.loc[:, \"overall\"]\n",
    "\n",
    "grid_search_cv.fit(X, y)\n",
    "print(grid_search_cv.cv_results_)\n"
   ]
  },
  {
   "cell_type": "code",
   "execution_count": null,
   "id": "925c0858",
   "metadata": {},
   "outputs": [],
   "source": []
  }
 ],
 "metadata": {
  "kernelspec": {
   "display_name": "Python 3 (ipykernel)",
   "language": "python",
   "name": "python3"
  },
  "language_info": {
   "codemirror_mode": {
    "name": "ipython",
    "version": 3
   },
   "file_extension": ".py",
   "mimetype": "text/x-python",
   "name": "python",
   "nbconvert_exporter": "python",
   "pygments_lexer": "ipython3",
   "version": "3.9.13"
  }
 },
 "nbformat": 4,
 "nbformat_minor": 5
}
